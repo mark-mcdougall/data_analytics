{
 "cells": [
  {
   "attachments": {},
   "cell_type": "markdown",
   "id": "39ca7d3d",
   "metadata": {},
   "source": [
    "## **Breakdown by UK Postcode Area, GB Postcode District and Sectors.**\n",
    "- This data pipeline creates 3 GeoDataFrames from digital vector boundaries files for 3 subsets of UK/GB Postcode Geographies: **Postcode Areas** (124 rows), **Postcode Districts** (2880 rows) and **Postcode Sectors** (10814 rows).\n",
    "- Each GeoDataFrame was saved to Postgres as a distinct table. \n",
    "- They can be then be downloaded from Postgres and reloaded into Geopandas for analysis and visualisation.\n",
    "- **Downloaded data format: Shapefiles** (downloaded as a compressed zip file).\n",
    "- **Processed data purpose:** Use as a map plotting source to produce interactive maps for various projects.\n",
    "- **Data provider: https://www.opendoorlogistics.com/**\n",
    "- **Data pipeline result:** \n",
    "    \n",
    "    3 Postgres tables: **gdf_postcode_areas**, **gdf_postcode_districts** and **gdf_postcode_sectors**.\n",
    "----\n"
   ]
  },
  {
   "cell_type": "code",
   "execution_count": 1,
   "id": "46c15f7c",
   "metadata": {},
   "outputs": [],
   "source": [
    "# IMPORT LIBRARIES.\n",
    "import pandas as pd\n",
    "import requests\n",
    "import io\n",
    "import zipfile\n",
    "import shutil\n",
    "import sqlalchemy\n",
    "from sqlalchemy import create_engine\n",
    "from shapely import wkt\n",
    "import os\n",
    "os.environ['USE_PYGEOS'] = '0'\n",
    "import geopandas as gpd"
   ]
  },
  {
   "cell_type": "code",
   "execution_count": 2,
   "id": "a53d4489",
   "metadata": {},
   "outputs": [],
   "source": [
    "# SET DISPLAY OPTIONS (None MEANS UNLIMITED).\n",
    "# TO SET NUMBER OF ROWS DISPLAYED:\n",
    "pd.options.display.max_rows=200\n",
    "# TO SET NUMBER OF COLUMNS DISPLAYED:\n",
    "pd.options.display.max_columns=None"
   ]
  },
  {
   "attachments": {},
   "cell_type": "markdown",
   "id": "b80181ac",
   "metadata": {},
   "source": [
    "## 1. DOWNLOAD AND PROCESS DIGITAL VECTOR BOUNDARIES.\n",
    "\n",
    "### Open Door Logistics UK Postcode Area, GB Postcode District and Sectors.                 FORMAT: Zipped Shapefiles."
   ]
  },
  {
   "cell_type": "code",
   "execution_count": 3,
   "id": "3d16e6c5",
   "metadata": {},
   "outputs": [],
   "source": [
    "def process_zip_shp(url):\n",
    "    \"\"\"\n",
    "    This function downloads digital vector boundaries files for UK Postcode Areas and GB Postcode Districts \n",
    "    and Sectors.\n",
    "    The files are downloaded in a compressed format as a single zip file.\n",
    "    The downloaded zip file is extracted into a temporary local directory and each of the 3 contained shapefiles \n",
    "    are loaded into GeoPandas as GeoDataFrames, where the attributes are cleaned and processed into a standardised \n",
    "    format.\n",
    "    The temporary local files and directory are then deleted.\n",
    "    \"\"\"\n",
    "   \n",
    "    # SET LOCAL PATH TO SAVE SHAPEFILES TO.\n",
    "    local_path = \"./datasets/\" \n",
    "\n",
    "    # DOWNLOAD THE ZIPPED DATA: DON'T NEED TO BYPASS 403 ERROR HERE HENCE NO USER AGENT REQUIRED.\n",
    "    response = requests.get(url)\n",
    "    zipped = zipfile.ZipFile(io.BytesIO(response.content))\n",
    "    # UNZIP SHAPEFILES INTO LOCAL STORAGE.\n",
    "    zipped.extractall(path=local_path) \n",
    "\n",
    "    # CREATE EMPTY DICTIONARY TO HOLD RESULT GEODATAFRAMES.\n",
    "    geodf_dict = {}\n",
    "    # LOAD EACH DOWNLOADED SHAPEFILE INTO GEOPANDAS AS A GEODATAFRAME. STORE GEODATAFRAMES IN THE DICTIONARY.\n",
    "    for file in zipped.namelist():\n",
    "        if file.endswith(\"shp\"):\n",
    "            # LOWERCASE AND RENAME KEY FOR EACH GEODATAFRAME STORED IN THE DICTIONARY.\n",
    "            geodf_dict[(\"gdf_\" + str(file))\n",
    "                       .lower()\n",
    "                       .replace(\"distribution/\",\"postcode_\")] =\\\n",
    "            gpd.read_file(local_path+file)\n",
    "    \n",
    "    # SET DTYPES AND INDEX COLUMN FOR ALL GEODATAFRAMES.\n",
    "    for gdf in geodf_dict.values():\n",
    "        gdf[\"name\"] = gdf[\"name\"].astype(\"string\")\n",
    "        gdf.set_index(\"name\",inplace=True)\n",
    "   \n",
    "    \n",
    "    # CLEAN UP: DELETE LOCAL FILE VERSIONS AND TEMPORARY DIRECTORY NOW THAT DATA HAS BEEN LOADED INTO GEOPANDAS.\n",
    "    shutil.rmtree(\"./datasets/\",ignore_errors=True)\n",
    "    \n",
    "    return geodf_dict"
   ]
  },
  {
   "cell_type": "code",
   "execution_count": 4,
   "id": "acc5bc8e",
   "metadata": {},
   "outputs": [],
   "source": [
    "# DOWNLOAD ZIPPED SHAPEFILES FOR UK postcode areas AND GB postcode districts AND sectors.\n",
    "url = \"https://www.opendoorlogistics.com/wp-content/uploads/Data/UK-postcode-boundaries-Jan-2015.zip\"\n",
    "\n",
    "# RUN THE FUNCTION AND USE APPROPRIATE DICTIONARY KEY TO GENERATE DESIRED GEODATAFRAME.\n",
    "gdf_postcode_areas = process_zip_shp(url)[\"gdf_postcode_areas.shp\"]\n",
    "gdf_postcode_districts = process_zip_shp(url)[\"gdf_postcode_districts.shp\"]\n",
    "gdf_postcode_sectors = process_zip_shp(url)[\"gdf_postcode_sectors.shp\"]"
   ]
  },
  {
   "attachments": {},
   "cell_type": "markdown",
   "id": "0f23836c",
   "metadata": {},
   "source": [
    "---\n",
    "---"
   ]
  },
  {
   "attachments": {},
   "cell_type": "markdown",
   "id": "cd00d6cb",
   "metadata": {},
   "source": [
    "## 2. CONNECT TO POSTGRESQL."
   ]
  },
  {
   "cell_type": "code",
   "execution_count": 5,
   "id": "213f2280",
   "metadata": {},
   "outputs": [],
   "source": [
    "def connect_to_postgres():\n",
    "    \"\"\"\n",
    "    Connect to Postgres database 'github_projects' as user 'postgres'.\n",
    "    \"\"\"\n",
    "    conn_params_dict = {\"user\":\"postgres\",\n",
    "                        \"password\":\"password\",\n",
    "                        # FOR host, USE THE POSTGRES INSTANCE CONTAINER NAME, AS THE CONTAINER IP CAN CHANGE.\n",
    "                        \"host\":\"postgres\",\n",
    "                        \"database\":\"github_projects\"}\n",
    "\n",
    "    connect_alchemy = \"postgresql+psycopg2://%s:%s@%s/%s\" % (\n",
    "        conn_params_dict['user'],\n",
    "        conn_params_dict['password'],\n",
    "        conn_params_dict['host'],\n",
    "        conn_params_dict['database']\n",
    "    )\n",
    "\n",
    "    # CREATE POSTGRES ENGINE (CONNECTION POOL).\n",
    "    engine = create_engine(connect_alchemy)\n",
    "    print(\"Connection to Postgres successful.\")\n",
    "    return engine"
   ]
  },
  {
   "cell_type": "code",
   "execution_count": 6,
   "id": "4cd74828",
   "metadata": {},
   "outputs": [
    {
     "name": "stdout",
     "output_type": "stream",
     "text": [
      "Connection to Postgres successful.\n"
     ]
    }
   ],
   "source": [
    "# EXECUTE FUNCTION TO CONNECT TO POSTGRES.\n",
    "engine = connect_to_postgres()"
   ]
  },
  {
   "attachments": {},
   "cell_type": "markdown",
   "id": "043726f1",
   "metadata": {},
   "source": [
    "---\n",
    "---"
   ]
  },
  {
   "attachments": {},
   "cell_type": "markdown",
   "id": "0c5e4245",
   "metadata": {},
   "source": [
    "## 3. WRITE / DOWNLOAD GEODATAFRAMES TO / FROM POSTGRES."
   ]
  },
  {
   "cell_type": "code",
   "execution_count": 7,
   "id": "c8e4dd7c",
   "metadata": {},
   "outputs": [],
   "source": [
    "def ul_gdf_to_pg(gdfs,names,pkey,dtype,index_bool):\n",
    "    \"\"\"\n",
    "    Write 1 or more GeoDataFrames to Postgres for storage. \n",
    "    For each written GeoDataFrame, the contents of the geometry column is serialized and then saved as a string \n",
    "    in Postgres.\n",
    "    \n",
    "    The following arguments are required:\n",
    "    'gdfs': A list of 1 or more GeoDataFrames to write to Postgres.\n",
    "    'names': A list of equal length to 'gdfs' with the corresponding names of each Postgres table to be created.\n",
    "    'pkey': Which attribute to set as the new table(s) primary key. String.\n",
    "    'dtype': A dictionary of \"attribute names:SQL Alchemy data types\" for the new table(s). All tables being \n",
    "    written must share the same attribute names/dtypes.\n",
    "    'index_bool': Whether or not to write the GeoPandas index to Postgres as a column. Possible values True/False.\n",
    "    \"\"\"  \n",
    "    for gdf,table_name in zip(gdfs,names):  \n",
    "        # SERIALISE THE CONTENTS OF THE geometry COLUMN INTO WKT (well-known text) STRINGS SO THAT IT ...\n",
    "        # CAN BE REPRESENTED BY DTYPE object AND THE GEODATAFRAME CAN BE SAVED TO POSTGRES.\n",
    "        gdf['geometry'] = gdf['geometry'].apply(lambda x: wkt.dumps(x))\n",
    "        \n",
    "        # CONVERT GEODATAFRAME TO DATAFRAME AND WRITE TO POSTGRES.\n",
    "        pd.DataFrame(gdf).to_sql(table_name, con = engine, if_exists='replace', index=index_bool,\n",
    "                                 # SET POSTGRES DTYPES.\n",
    "                                 dtype=dtype)\n",
    "    \n",
    "        # ADD PRIMARY KEY TO CREATED TABLE. \n",
    "        set_primary_key = engine.execute(f\"\"\"\n",
    "                                         ALTER TABLE {table_name} ADD PRIMARY KEY ({pkey})\n",
    "                                         \"\"\")\n",
    "        set_primary_key.close()\n",
    "    \n",
    "    if len(names)==1:\n",
    "        print(f\"The \\033[1m{table_name}\\033[0m Postgres table has been successfully created.\\n\")\n",
    "    else:\n",
    "        print(f\"The \\033[1m{', '.join(names[:-1])}\\033[0m and \\033[1m{(names)[-1]}\\033[0m Postgres tables have been successfully created.\\n\")"
   ]
  },
  {
   "attachments": {},
   "cell_type": "markdown",
   "id": "afa88852",
   "metadata": {},
   "source": [
    "### 3.1. WRITE GEO DATA TO POSTGRES:"
   ]
  },
  {
   "cell_type": "code",
   "execution_count": 8,
   "id": "69a2deda",
   "metadata": {},
   "outputs": [
    {
     "name": "stderr",
     "output_type": "stream",
     "text": [
      "/usr/local/lib/python3.8/dist-packages/geopandas/geodataframe.py:1442: UserWarning: Geometry column does not contain geometry.\n",
      "  warnings.warn(\"Geometry column does not contain geometry.\")\n",
      "/tmp/ipykernel_84/4255319321.py:26: RemovedIn20Warning: Deprecated API features detected! These feature(s) are not compatible with SQLAlchemy 2.0. To prevent incompatible upgrades prior to updating applications, ensure requirements files are pinned to \"sqlalchemy<2.0\". Set environment variable SQLALCHEMY_WARN_20=1 to show all deprecation warnings.  Set environment variable SQLALCHEMY_SILENCE_UBER_WARNING=1 to silence this message. (Background on SQLAlchemy 2.0 at: https://sqlalche.me/e/b8d9)\n",
      "  set_primary_key = engine.execute(f\"\"\"\n",
      "/usr/local/lib/python3.8/dist-packages/geopandas/geodataframe.py:1442: UserWarning: Geometry column does not contain geometry.\n",
      "  warnings.warn(\"Geometry column does not contain geometry.\")\n",
      "/usr/local/lib/python3.8/dist-packages/geopandas/geodataframe.py:1442: UserWarning: Geometry column does not contain geometry.\n",
      "  warnings.warn(\"Geometry column does not contain geometry.\")\n"
     ]
    },
    {
     "name": "stdout",
     "output_type": "stream",
     "text": [
      "The \u001b[1mgdf_postcode_areas, gdf_postcode_districts\u001b[0m and \u001b[1mgdf_postcode_sectors\u001b[0m Postgres tables have been successfully created.\n",
      "\n"
     ]
    }
   ],
   "source": [
    "# WRITE THE OPEN DOOR LOGISTICS SHAPEFILE BASED GEODATAFRAMES TO POSTGRES:\n",
    "ul_gdf_to_pg(gdfs=[gdf_postcode_areas,gdf_postcode_districts,gdf_postcode_sectors],\n",
    "             names=[\"gdf_postcode_areas\",\"gdf_postcode_districts\",\"gdf_postcode_sectors\"],\n",
    "             pkey=\"name\",\n",
    "             dtype={\n",
    "                    \"name\":sqlalchemy.types.Text,\n",
    "                    \"geometry\":sqlalchemy.types.Text\n",
    "             },\n",
    "             index_bool=True\n",
    "            )"
   ]
  },
  {
   "attachments": {},
   "cell_type": "markdown",
   "id": "30e51e0e",
   "metadata": {},
   "source": [
    "---\n",
    "---"
   ]
  },
  {
   "attachments": {},
   "cell_type": "markdown",
   "id": "3289ee43",
   "metadata": {},
   "source": [
    "### 3.2. DOWNLOAD GEO DATA FROM POSTGRES:"
   ]
  },
  {
   "cell_type": "code",
   "execution_count": 9,
   "id": "30ec8e8b",
   "metadata": {},
   "outputs": [],
   "source": [
    "def dl_gdf_from_pg(table_name,dtype,index_col=None):\n",
    "    \"\"\"\n",
    "    Download a single Postgres table and automatically process it into a GeoPandas GeoDataFrame. \n",
    "    For each downloaded GeoDataFrame, the contents of the geometry column is deserialized and then saved as a \n",
    "    dtype=\"geometry\" in GeoPandas.\n",
    "    \n",
    "    The following arguments are required:\n",
    "    'table_name': A string with the name of the GeoDataFrame as held on Postgres as a table.\n",
    "    'dtype': A dictionary of \"attribute names:GeoPandas data types\" for the downloaded GeoDataFrame. If an \n",
    "    attribute is not present in this dictionary then a default dtype is set by GeoPandas automatically for \n",
    "    the attribute.\n",
    "    'index_col': Which attribute to set as the index of the GeoDataFrame. Optional string, defaults to None.\n",
    "    \"\"\" \n",
    "    # DOWNLOAD DATAFRAME VERSION OF DIGITAL VECTOR BOUNDARIES FROM POSTGRES.\n",
    "    df_from_pg = pd.read_sql_table(table_name, con=engine)\n",
    "    \n",
    "    # DESERIALIZE THE WKT STRINGS REPRESENTATION OF THE GEOMETRY COLUMN.\n",
    "    df_from_pg['geometry'] = df_from_pg[\"geometry\"].apply(lambda x: wkt.loads(x))\n",
    "\n",
    "    # CONVERT DATAFRAME INTO GEODATAFRAME AND SET GEOMETRY COLUMN.\n",
    "    gdf_from_pg = gpd.GeoDataFrame(df_from_pg,geometry=df_from_pg[\"geometry\"],crs=4326)\n",
    "    \n",
    "    # SET DTYPES.\n",
    "    gdf_from_pg = gdf_from_pg.astype(dtype)\n",
    "    \n",
    "    print(f\"The \\033[1m{table_name}\\033[0m table was successfully downloaded from Postgres and loaded into GeoPandas.\\n\") \n",
    "    \n",
    "    # SET INDEX COLUMN (OPTIONAL).\n",
    "    if index_col==None:\n",
    "        print(f\"No index attribute was set on the GeoDataFrame so the default numeric index has been used.\")\n",
    "    else:\n",
    "        gdf_from_pg.set_index(index_col,inplace=True)\n",
    "        print(f\"The \\033[1m{index_col}\\033[0m attribute was set as the GeoDataFrame index.\")\n",
    "   \n",
    "    \n",
    "    return gdf_from_pg"
   ]
  },
  {
   "cell_type": "code",
   "execution_count": 10,
   "id": "2c1eceed",
   "metadata": {},
   "outputs": [
    {
     "name": "stdout",
     "output_type": "stream",
     "text": [
      "The \u001b[1mgdf_postcode_sectors\u001b[0m table was successfully downloaded from Postgres and loaded into GeoPandas.\n",
      "\n",
      "No index attribute was set on the GeoDataFrame so the default numeric index has been used.\n"
     ]
    },
    {
     "data": {
      "text/html": [
       "<div>\n",
       "<style scoped>\n",
       "    .dataframe tbody tr th:only-of-type {\n",
       "        vertical-align: middle;\n",
       "    }\n",
       "\n",
       "    .dataframe tbody tr th {\n",
       "        vertical-align: top;\n",
       "    }\n",
       "\n",
       "    .dataframe thead th {\n",
       "        text-align: right;\n",
       "    }\n",
       "</style>\n",
       "<table border=\"1\" class=\"dataframe\">\n",
       "  <thead>\n",
       "    <tr style=\"text-align: right;\">\n",
       "      <th></th>\n",
       "      <th>name</th>\n",
       "      <th>geometry</th>\n",
       "    </tr>\n",
       "  </thead>\n",
       "  <tbody>\n",
       "    <tr>\n",
       "      <th>0</th>\n",
       "      <td>AB10 1</td>\n",
       "      <td>POLYGON ((-2.11645 57.14656, -2.11655 57.14663...</td>\n",
       "    </tr>\n",
       "    <tr>\n",
       "      <th>1</th>\n",
       "      <td>AB10 6</td>\n",
       "      <td>MULTIPOLYGON (((-2.12239 57.12887, -2.12279 57...</td>\n",
       "    </tr>\n",
       "    <tr>\n",
       "      <th>2</th>\n",
       "      <td>AB10 7</td>\n",
       "      <td>POLYGON ((-2.12239 57.12887, -2.12119 57.12972...</td>\n",
       "    </tr>\n",
       "    <tr>\n",
       "      <th>3</th>\n",
       "      <td>AB11 5</td>\n",
       "      <td>POLYGON ((-2.05528 57.14547, -2.05841 57.14103...</td>\n",
       "    </tr>\n",
       "    <tr>\n",
       "      <th>4</th>\n",
       "      <td>AB11 6</td>\n",
       "      <td>POLYGON ((-2.09818 57.13769, -2.09803 57.13852...</td>\n",
       "    </tr>\n",
       "    <tr>\n",
       "      <th>5</th>\n",
       "      <td>AB11 7</td>\n",
       "      <td>POLYGON ((-2.11045 57.13424, -2.11116 57.13484...</td>\n",
       "    </tr>\n",
       "    <tr>\n",
       "      <th>6</th>\n",
       "      <td>AB11 8</td>\n",
       "      <td>MULTIPOLYGON (((-2.05257 57.13426, -2.05729 57...</td>\n",
       "    </tr>\n",
       "    <tr>\n",
       "      <th>7</th>\n",
       "      <td>AB11 9</td>\n",
       "      <td>POLYGON ((-2.08748 57.13972, -2.08687 57.13966...</td>\n",
       "    </tr>\n",
       "    <tr>\n",
       "      <th>8</th>\n",
       "      <td>AB12 3</td>\n",
       "      <td>MULTIPOLYGON (((-2.08100 57.08471, -2.09129 57...</td>\n",
       "    </tr>\n",
       "    <tr>\n",
       "      <th>9</th>\n",
       "      <td>AB12 4</td>\n",
       "      <td>POLYGON ((-2.12807 57.03684, -2.12986 57.03764...</td>\n",
       "    </tr>\n",
       "  </tbody>\n",
       "</table>\n",
       "</div>"
      ],
      "text/plain": [
       "     name                                           geometry\n",
       "0  AB10 1  POLYGON ((-2.11645 57.14656, -2.11655 57.14663...\n",
       "1  AB10 6  MULTIPOLYGON (((-2.12239 57.12887, -2.12279 57...\n",
       "2  AB10 7  POLYGON ((-2.12239 57.12887, -2.12119 57.12972...\n",
       "3  AB11 5  POLYGON ((-2.05528 57.14547, -2.05841 57.14103...\n",
       "4  AB11 6  POLYGON ((-2.09818 57.13769, -2.09803 57.13852...\n",
       "5  AB11 7  POLYGON ((-2.11045 57.13424, -2.11116 57.13484...\n",
       "6  AB11 8  MULTIPOLYGON (((-2.05257 57.13426, -2.05729 57...\n",
       "7  AB11 9  POLYGON ((-2.08748 57.13972, -2.08687 57.13966...\n",
       "8  AB12 3  MULTIPOLYGON (((-2.08100 57.08471, -2.09129 57...\n",
       "9  AB12 4  POLYGON ((-2.12807 57.03684, -2.12986 57.03764..."
      ]
     },
     "execution_count": 10,
     "metadata": {},
     "output_type": "execute_result"
    }
   ],
   "source": [
    "# OPEN DOOR LOGISTICS BASED GEODATAFRAME DOWNLOAD FROM POSTGRES, WHERE OPTIONAL INDEX COLUMN IS NOT SET IN ...\n",
    "# GEOPANDAS:\n",
    "dl_gdf_from_pg(table_name=\"gdf_postcode_sectors\",\n",
    "               dtype={\"name\":\"string\"}\n",
    "              ).head(10)"
   ]
  },
  {
   "attachments": {},
   "cell_type": "markdown",
   "id": "91a042eb",
   "metadata": {},
   "source": [
    "---\n",
    "---\n",
    "## 4. CLOSE ALL CONNECTIONS TO POSTGRES DATABASE."
   ]
  },
  {
   "cell_type": "code",
   "execution_count": 11,
   "id": "5b93ba7a",
   "metadata": {},
   "outputs": [],
   "source": [
    "def disconnect_from_postgres():\n",
    "    \"\"\"\n",
    "    Completely disconnect from Postgres.\n",
    "    \"\"\"\n",
    "    engine.dispose() \n",
    "    print(\"All connections to Postgres have been terminated.\")"
   ]
  },
  {
   "cell_type": "code",
   "execution_count": 12,
   "id": "dd85c969",
   "metadata": {},
   "outputs": [
    {
     "name": "stdout",
     "output_type": "stream",
     "text": [
      "All connections to Postgres have been terminated.\n"
     ]
    }
   ],
   "source": [
    "disconnect_from_postgres()"
   ]
  }
 ],
 "metadata": {
  "kernelspec": {
   "display_name": "Python 3 (ipykernel)",
   "language": "python",
   "name": "python3"
  },
  "language_info": {
   "codemirror_mode": {
    "name": "ipython",
    "version": 3
   },
   "file_extension": ".py",
   "mimetype": "text/x-python",
   "name": "python",
   "nbconvert_exporter": "python",
   "pygments_lexer": "ipython3",
   "version": "3.8.10"
  }
 },
 "nbformat": 4,
 "nbformat_minor": 5
}
