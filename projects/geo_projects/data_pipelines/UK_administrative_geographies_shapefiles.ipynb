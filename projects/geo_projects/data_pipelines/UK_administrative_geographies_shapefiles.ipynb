{
 "cells": [
  {
   "attachments": {},
   "cell_type": "markdown",
   "id": "39ca7d3d",
   "metadata": {},
   "source": [
    "### **Breakdown by UK Administrative Geographies.**\n",
    "- This data pipeline creates 3 GeoDatFrames from digital vector boundaries files for 3 subsets of UK Administrative Geographies: **Countries** (4 rows), **Regions** (12 rows) and **Local Authority Districts** (379 rows).\n",
    "- Each GeoDataFrame was saved to Postgres as a distinct table.\n",
    "- They can be then be downloaded from Postgres and reloaded into Geopandas for analysis and visualisation.\n",
    "- **Downloaded data format: GeoJSON** (obtained via data api).\n",
    "- **Processed data purpose:** Use as a map plotting source to produce interactive maps for various projects.\n",
    "- **Data provider: The Office of National Statistics**.\n",
    "- **Data pipeline result:** \n",
    "    \n",
    "    3 Postgres tables: **gdf_ons_countries**, **gdf_ons_regions** and **gdf_ons_lad20**.\n"
   ]
  },
  {
   "cell_type": "code",
   "execution_count": 1,
   "id": "46c15f7c",
   "metadata": {},
   "outputs": [
    {
     "name": "stderr",
     "output_type": "stream",
     "text": [
      "/usr/local/lib/python3.8/dist-packages/geopandas/_compat.py:106: UserWarning: The Shapely GEOS version (3.11.1-CAPI-1.17.1) is incompatible with the GEOS version PyGEOS was compiled with (3.9.0-CAPI-1.16.2). Conversions between both will be slow.\n",
      "  warnings.warn(\n"
     ]
    }
   ],
   "source": [
    "# IMPORT LIBRARIES.\n",
    "import pandas as pd\n",
    "import requests\n",
    "import io\n",
    "import zipfile\n",
    "import shutil\n",
    "import sqlalchemy\n",
    "from sqlalchemy import create_engine\n",
    "from shapely import wkt\n",
    "import os\n",
    "os.environ['USE_PYGEOS'] = '0'\n",
    "import geopandas as gpd"
   ]
  },
  {
   "cell_type": "code",
   "execution_count": 2,
   "id": "a53d4489",
   "metadata": {},
   "outputs": [],
   "source": [
    "# SET DISPLAY OPTIONS (None MEANS UNLIMITED).\n",
    "# TO SET NUMBER OF ROWS DISPLAYED:\n",
    "pd.options.display.max_rows=200\n",
    "# TO SET NUMBER OF COLUMNS DISPLAYED:\n",
    "pd.options.display.max_columns=None"
   ]
  },
  {
   "attachments": {},
   "cell_type": "markdown",
   "id": "b80181ac",
   "metadata": {},
   "source": [
    "## 1. DOWNLOAD AND PROCESS DIGITAL VECTOR BOUNDARIES.\n",
    "\n",
    "### ONS UK Administrative Geographies. FORMAT: Geojson."
   ]
  },
  {
   "cell_type": "code",
   "execution_count": 3,
   "id": "54de79c2",
   "metadata": {},
   "outputs": [],
   "source": [
    "def process_geojson():\n",
    "    \"\"\"\n",
    "    This function downloads digital vector boundaries files for UK Countries, Regions and Local Authority Districts \n",
    "    via the ONS Open Geography Portal data api.\n",
    "    Each downloaded GeoJSON file is loaded into GeoPandas as a GeoDataFrame where the attributes are filtered, \n",
    "    cleaned and processed into a standardised format.\n",
    "    \"\"\"\n",
    "    # DOWNLOAD DIGITAL VECTOR BOUNDARIES FOR UK countries, regions AND local authority districts.\n",
    "    # DON'T NEED TO BYPASS 403 ERROR HERE HENCE NO USER AGENT REQUIRED.\n",
    "    countries_data = requests.get(\"https://services1.arcgis.com/ESMARspQHYMw9BZ9/arcgis/rest/services/Countries_December_2020_UK_BUC_2022/FeatureServer/0/query?outFields=*&where=1%3D1&f=geojson\")\n",
    "    regions_data = requests.get(\"https://services1.arcgis.com/ESMARspQHYMw9BZ9/arcgis/rest/services/Regions_Dec_2020_EN_BUC_2022/FeatureServer/0/query?outFields=*&where=1%3D1&f=geojson\")\n",
    "    lad20_data = requests.get(\"https://services1.arcgis.com/ESMARspQHYMw9BZ9/arcgis/rest/services/Local_Authority_Districts_December_2020_UK_BUC_2022/FeatureServer/0/query?outFields=*&where=1%3D1&f=geojson\")\n",
    "\n",
    "    geo_data = [countries_data,regions_data,lad20_data]\n",
    "    \n",
    "    # CREATE EMPTY LIST TO STORE RESULT GEODATAFRAMES.\n",
    "    gdf_list = []\n",
    "\n",
    "    for data in geo_data:\n",
    "        # LOAD GEODATA INTO GEOPANDAS.\n",
    "        gdf_pre = gpd.GeoDataFrame.from_features(data.json(),crs=4326)\n",
    "        # DROP COLUMNS: DROP BASED ON COLUMN POSITION, NOT NAME.\n",
    "        if data == lad20_data:\n",
    "            # DROP OBJECTID, WELSH NAME AND GlobalID ATTRIBUTES (NO WELSH NAME ATTRIBUTE ON THIS FILE).\n",
    "            gdf_pre.drop(gdf_pre.columns[[1,4,11]], axis = 1, inplace=True)  \n",
    "        else:\n",
    "            # DROP OBJECTID AND GlobalID ATTRIBUTES (NO WELSH NAME ATTRIBUTE ON THESE FILES)\n",
    "            gdf_pre.drop(gdf_pre.columns[[1,10]], axis = 1, inplace=True)\n",
    "\n",
    "\n",
    "        # STANDARDISE ATTRIBUTE NAMES ACROSS GEODATAFRAMES, ALSO SETS ATTRIBUTE NAMES AS LOWERCASE.\n",
    "        gdf_pre.columns = [\"geometry\",\"code\",\"name\",\"bng_e\",\"bng_n\",\"long\",\"lat\",\"shape_area\",\"shape_length\"]\n",
    "    \n",
    "        # LOWERCASE name ATTRIBUTE VALUES AND CLEAN UP name ATTRIBUTE VALUES FOR ADMIN GEOGRAPHIES == REGIONS.\n",
    "        gdf_pre[\"name\"] = gdf_pre[\"name\"].str.lower()\\\n",
    "                                         .str.split(\"(england)\", expand=True)[0]\\\n",
    "                                         .str.strip(\" (\")\\\n",
    "                                         .str.replace(\"east of\",\"east\")\n",
    "    \n",
    "        # READD name VALUE REMOVED AS A BYPRODUCT OF ABOVE CLEAN UP.\n",
    "        gdf_pre.loc[gdf_pre[\"code\"]==\"E92000001\",\"name\"] = \"england\"\n",
    "    \n",
    "        # SET INDEX COLUMN.\n",
    "        gdf_pre.set_index(\"code\",inplace=True)\n",
    "    \n",
    "        # SET DTYPES.\n",
    "        gdf_pre[\"name\"] = gdf_pre[\"name\"].astype(\"str\")\n",
    "        gdf_pre[[\"bng_e\",\"bng_n\"]] = gdf_pre[[\"bng_e\",\"bng_n\"]].astype(\"Int32\")\n",
    "     \n",
    "        # RESET COLUMN ORDER.\n",
    "        gdf = gdf_pre[[\"name\",\"bng_e\",\"bng_n\",\"long\",\"lat\",\"shape_area\",\"shape_length\",\"geometry\"]].copy()\n",
    "\n",
    "        # ADD GEODATAFRAME TO LIST TO STORE RESULT.\n",
    "        gdf_list.append(gdf)\n",
    "    \n",
    "    # RETURN COMPLETE LIST OF GEODATAFRAMES.\n",
    "    return gdf_list"
   ]
  },
  {
   "cell_type": "code",
   "execution_count": 4,
   "id": "df1fbdcd",
   "metadata": {},
   "outputs": [],
   "source": [
    "# RUN THE FUNCTION AND INDEX THE RETURNED LIST TO GENERATE APPROPRIATE GEODATAFRAME.\n",
    "countries_gdf = process_geojson()[0]\n",
    "regions_gdf = process_geojson()[1]\n",
    "lad20_gdf = process_geojson()[2]"
   ]
  },
  {
   "attachments": {},
   "cell_type": "markdown",
   "id": "0f23836c",
   "metadata": {},
   "source": [
    "---\n",
    "---"
   ]
  },
  {
   "attachments": {},
   "cell_type": "markdown",
   "id": "cd00d6cb",
   "metadata": {},
   "source": [
    "## 2. CONNECT TO POSTGRESQL."
   ]
  },
  {
   "cell_type": "code",
   "execution_count": 5,
   "id": "213f2280",
   "metadata": {},
   "outputs": [],
   "source": [
    "def connect_to_postgres():\n",
    "    \"\"\"\n",
    "    Connect to Postgres database 'github_projects' as user 'postgres'.\n",
    "    \"\"\"\n",
    "    conn_params_dict = {\"user\":\"postgres\",\n",
    "                        \"password\":\"password\",\n",
    "                        # FOR host, USE THE POSTGRES INSTANCE CONTAINER NAME, AS THE CONTAINER IP CAN CHANGE.\n",
    "                        \"host\":\"postgres\",\n",
    "                        \"database\":\"github_projects\"}\n",
    "\n",
    "    connect_alchemy = \"postgresql+psycopg2://%s:%s@%s/%s\" % (\n",
    "        conn_params_dict['user'],\n",
    "        conn_params_dict['password'],\n",
    "        conn_params_dict['host'],\n",
    "        conn_params_dict['database']\n",
    "    )\n",
    "\n",
    "    # CREATE POSTGRES ENGINE (CONNECTION POOL).\n",
    "    engine = create_engine(connect_alchemy)\n",
    "    print(\"Connection to Postgres successful.\")\n",
    "    return engine"
   ]
  },
  {
   "cell_type": "code",
   "execution_count": 6,
   "id": "4cd74828",
   "metadata": {},
   "outputs": [
    {
     "name": "stdout",
     "output_type": "stream",
     "text": [
      "Connection to Postgres successful.\n"
     ]
    }
   ],
   "source": [
    "# EXECUTE FUNCTION TO CONNECT TO POSTGRES.\n",
    "engine = connect_to_postgres()"
   ]
  },
  {
   "attachments": {},
   "cell_type": "markdown",
   "id": "043726f1",
   "metadata": {},
   "source": [
    "---\n",
    "---"
   ]
  },
  {
   "attachments": {},
   "cell_type": "markdown",
   "id": "0c5e4245",
   "metadata": {},
   "source": [
    "## 3. WRITE GEODATAFRAMES TO POSTGRES."
   ]
  },
  {
   "cell_type": "code",
   "execution_count": 7,
   "id": "c8e4dd7c",
   "metadata": {},
   "outputs": [],
   "source": [
    "def ul_gdf_to_pg(gdfs,names,pkey,dtype,index_bool):\n",
    "    \"\"\"\n",
    "    Write 1 or more GeoDataFrames to Postgres for storage. \n",
    "    For each written GeoDataFrame, the contents of the geometry column is serialized and then saved as a string \n",
    "    in Postgres.\n",
    "    \n",
    "    The following arguments are required:\n",
    "    'gdfs': A list of 1 or more GeoDataFrames to write to Postgres.\n",
    "    'names': A list of equal length to 'gdfs' with the corresponding names of each Postgres table to be created.\n",
    "    'pkey': Which attribute to set as the new table(s) primary key. String.\n",
    "    'dtype': A dictionary of \"attribute names:SQL Alchemy data types\" for the new table(s). N.B. All tables being \n",
    "    written must share the same attribute names/dtypes.\n",
    "    'index_bool': Whether or not to write the GeoPandas index to Postgres as a column. Possible values True/False.\n",
    "    \"\"\"  \n",
    "    for gdf,table_name in zip(gdfs,names):  \n",
    "        # SERIALISE THE CONTENTS OF THE geometry COLUMN INTO WKT (well-known text) STRINGS SO THAT IT ...\n",
    "        # CAN BE REPRESENTED BY DTYPE object AND THE GEODATAFRAME CAN BE SAVED TO POSTGRES.\n",
    "        gdf['geometry'] = gdf['geometry'].apply(lambda x: wkt.dumps(x))\n",
    "        \n",
    "        # CONVERT GEODATAFRAME TO DATAFRAME AND WRITE TO POSTGRES.\n",
    "        pd.DataFrame(gdf).to_sql(table_name, con = engine, if_exists='replace', index=index_bool,\n",
    "                                 # SET POSTGRES DTYPES.\n",
    "                                 dtype=dtype)\n",
    "    \n",
    "        # ADD PRIMARY KEY TO CREATED TABLE. \n",
    "        set_primary_key = engine.execute(f\"\"\"\n",
    "                                         ALTER TABLE {table_name} ADD PRIMARY KEY ({pkey})\n",
    "                                         \"\"\")\n",
    "        set_primary_key.close()\n",
    "    \n",
    "    if len(names)==1:\n",
    "        print(f\"The \\033[1m{table_name}\\033[0m Postgres table has been successfully created.\\n\")\n",
    "    else:\n",
    "        print(f\"The \\033[1m{', '.join(names[:-1])}\\033[0m and \\033[1m{(names)[-1]}\\033[0m Postgres tables have been successfully created.\\n\")"
   ]
  },
  {
   "attachments": {},
   "cell_type": "markdown",
   "id": "afa88852",
   "metadata": {},
   "source": [
    "### 3.1. WRITE DATA SOURCE 1 TO POSTGRES:"
   ]
  },
  {
   "cell_type": "code",
   "execution_count": 8,
   "id": "863795f4",
   "metadata": {},
   "outputs": [
    {
     "name": "stderr",
     "output_type": "stream",
     "text": [
      "/usr/local/lib/python3.8/dist-packages/geopandas/geodataframe.py:1321: UserWarning: Geometry column does not contain geometry.\n",
      "  warnings.warn(\"Geometry column does not contain geometry.\")\n",
      "/usr/local/lib/python3.8/dist-packages/geopandas/geodataframe.py:1321: UserWarning: Geometry column does not contain geometry.\n",
      "  warnings.warn(\"Geometry column does not contain geometry.\")\n",
      "/usr/local/lib/python3.8/dist-packages/geopandas/geodataframe.py:1321: UserWarning: Geometry column does not contain geometry.\n",
      "  warnings.warn(\"Geometry column does not contain geometry.\")\n"
     ]
    },
    {
     "name": "stdout",
     "output_type": "stream",
     "text": [
      "The \u001b[1mgdf_ons_countries, gdf_ons_regions\u001b[0m and \u001b[1mgdf_ons_lad20\u001b[0m Postgres tables have been successfully created.\n",
      "\n"
     ]
    }
   ],
   "source": [
    "# WRITE THE ONS GEOJSON BASED GEODATAFRAMES TO POSTGRES:\n",
    "ul_gdf_to_pg(gdfs=[countries_gdf,regions_gdf,lad20_gdf],\n",
    "             names=[\"gdf_ons_countries\",\"gdf_ons_regions\",\"gdf_ons_lad20\"],\n",
    "             pkey=\"code\",\n",
    "             dtype={\n",
    "                    \"code\":sqlalchemy.types.Text,\n",
    "                    \"name\":sqlalchemy.types.Text,\n",
    "                    \"bng_e\":sqlalchemy.types.Integer,\n",
    "                    \"bng_n\":sqlalchemy.types.Integer,\n",
    "                    \"long\":sqlalchemy.types.Float,\n",
    "                    \"lat\":sqlalchemy.types.Float,\n",
    "                    \"shape_area\":sqlalchemy.types.Float,\n",
    "                    \"shape_length\":sqlalchemy.types.Float,\n",
    "                    \"geometry\":sqlalchemy.types.Text\n",
    "             },\n",
    "             index_bool=True\n",
    "            )"
   ]
  },
  {
   "attachments": {},
   "cell_type": "markdown",
   "id": "30e51e0e",
   "metadata": {},
   "source": [
    "---\n",
    "---"
   ]
  },
  {
   "attachments": {},
   "cell_type": "markdown",
   "id": "3289ee43",
   "metadata": {},
   "source": [
    "## 4. DOWNLOAD GEODATAFRAME FROM POSTGRES."
   ]
  },
  {
   "cell_type": "code",
   "execution_count": 9,
   "id": "30ec8e8b",
   "metadata": {},
   "outputs": [],
   "source": [
    "def dl_gdf_from_pg(table_name,dtype,index_col=None):\n",
    "    \"\"\"\n",
    "    Download a single Postgres table and automatically process it into a GeoPandas GeoDataFrame. \n",
    "    For each downloaded GeoDataFrame, the contents of the geometry column is deserialized and then saved as a \n",
    "    dtype=\"geometry\" in GeoPandas.\n",
    "    \n",
    "    The following arguments are required:\n",
    "    'table_name': A string with the name of the GeoDataFrame as held on Postgres as a table.\n",
    "    'dtype': A dictionary of \"attribute names:GeoPandas data types\" for the downloaded GeoDataFrame. If an \n",
    "    attribute is not present in this dictionary then a default dtype is set by GeoPandas automatically for \n",
    "    the attribute.\n",
    "    'index_col': Which attribute to set as the index of the GeoDataFrame. Optional string, defaults to None.\n",
    "    \"\"\" \n",
    "    # DOWNLOAD DATAFRAME VERSION OF DIGITAL VECTOR BOUNDARIES FROM POSTGRES.\n",
    "    df_from_pg = pd.read_sql_table(table_name, con=engine)\n",
    "    \n",
    "    # DESERIALIZE THE WKT STRINGS REPRESENTATION OF THE GEOMETRY COLUMN.\n",
    "    df_from_pg['geometry'] = df_from_pg[\"geometry\"].apply(lambda x: wkt.loads(x))\n",
    "\n",
    "    # CONVERT DATAFRAME INTO GEODATAFRAME AND SET GEOMETRY COLUMN.\n",
    "    gdf_from_pg = gpd.GeoDataFrame(df_from_pg,geometry=df_from_pg[\"geometry\"],crs=4326)\n",
    "    \n",
    "    # SET DTYPES.\n",
    "    gdf_from_pg = gdf_from_pg.astype(dtype)\n",
    "    \n",
    "    print(f\"The \\033[1m{table_name}\\033[0m table was successfully downloaded from Postgres and loaded into GeoPandas.\\n\") \n",
    "    \n",
    "    # SET INDEX COLUMN (OPTIONAL).\n",
    "    if index_col==None:\n",
    "        print(f\"No index attribute was set on the GeoDataFrame so the default numeric index has been used.\")\n",
    "    else:\n",
    "        gdf_from_pg.set_index(index_col,inplace=True)\n",
    "        print(f\"The \\033[1m{index_col}\\033[0m attribute was set as the GeoDataFrame index.\")\n",
    "   \n",
    "    \n",
    "    return gdf_from_pg"
   ]
  },
  {
   "attachments": {},
   "cell_type": "markdown",
   "id": "75c7846f",
   "metadata": {},
   "source": [
    "### 4.1. DOWNLOAD DATA SOURCE 1 FROM POSTGRES AND LOAD INTO GEOPANDAS:"
   ]
  },
  {
   "cell_type": "code",
   "execution_count": 10,
   "id": "4695af78",
   "metadata": {},
   "outputs": [
    {
     "name": "stdout",
     "output_type": "stream",
     "text": [
      "The <gdf_ons_countries> table was successfully downloaded from Postgres and loaded into GeoPandas.\n",
      "\n",
      "The \u001b[1mcode\u001b[0m attribute was set as the GeoDataFrame index.\n"
     ]
    },
    {
     "data": {
      "text/html": [
       "<div>\n",
       "<style scoped>\n",
       "    .dataframe tbody tr th:only-of-type {\n",
       "        vertical-align: middle;\n",
       "    }\n",
       "\n",
       "    .dataframe tbody tr th {\n",
       "        vertical-align: top;\n",
       "    }\n",
       "\n",
       "    .dataframe thead th {\n",
       "        text-align: right;\n",
       "    }\n",
       "</style>\n",
       "<table border=\"1\" class=\"dataframe\">\n",
       "  <thead>\n",
       "    <tr style=\"text-align: right;\">\n",
       "      <th></th>\n",
       "      <th>name</th>\n",
       "      <th>bng_e</th>\n",
       "      <th>bng_n</th>\n",
       "      <th>long</th>\n",
       "      <th>lat</th>\n",
       "      <th>shape_area</th>\n",
       "      <th>shape_length</th>\n",
       "      <th>geometry</th>\n",
       "    </tr>\n",
       "    <tr>\n",
       "      <th>code</th>\n",
       "      <th></th>\n",
       "      <th></th>\n",
       "      <th></th>\n",
       "      <th></th>\n",
       "      <th></th>\n",
       "      <th></th>\n",
       "      <th></th>\n",
       "      <th></th>\n",
       "    </tr>\n",
       "  </thead>\n",
       "  <tbody>\n",
       "    <tr>\n",
       "      <th>E92000001</th>\n",
       "      <td>england</td>\n",
       "      <td>394883</td>\n",
       "      <td>370883</td>\n",
       "      <td>-2.07811</td>\n",
       "      <td>53.234970</td>\n",
       "      <td>1.306816e+11</td>\n",
       "      <td>4.616816e+06</td>\n",
       "      <td>MULTIPOLYGON (((-1.77887 55.66773, -1.80244 55...</td>\n",
       "    </tr>\n",
       "    <tr>\n",
       "      <th>N92000002</th>\n",
       "      <td>northern ireland</td>\n",
       "      <td>86544</td>\n",
       "      <td>535337</td>\n",
       "      <td>-6.85570</td>\n",
       "      <td>54.615009</td>\n",
       "      <td>1.433186e+10</td>\n",
       "      <td>8.291252e+05</td>\n",
       "      <td>MULTIPOLYGON (((-6.18992 55.25846, -6.20082 55...</td>\n",
       "    </tr>\n",
       "    <tr>\n",
       "      <th>S92000003</th>\n",
       "      <td>scotland</td>\n",
       "      <td>277744</td>\n",
       "      <td>700060</td>\n",
       "      <td>-3.97094</td>\n",
       "      <td>56.177429</td>\n",
       "      <td>7.865663e+10</td>\n",
       "      <td>9.812084e+06</td>\n",
       "      <td>MULTIPOLYGON (((-0.79514 60.74093, -0.79106 60...</td>\n",
       "    </tr>\n",
       "    <tr>\n",
       "      <th>W92000004</th>\n",
       "      <td>wales</td>\n",
       "      <td>263405</td>\n",
       "      <td>242881</td>\n",
       "      <td>-3.99417</td>\n",
       "      <td>52.067410</td>\n",
       "      <td>2.081892e+10</td>\n",
       "      <td>1.556249e+06</td>\n",
       "      <td>MULTIPOLYGON (((-3.08993 53.25953, -3.09314 53...</td>\n",
       "    </tr>\n",
       "  </tbody>\n",
       "</table>\n",
       "</div>"
      ],
      "text/plain": [
       "                       name   bng_e   bng_n     long        lat    shape_area  \\\n",
       "code                                                                            \n",
       "E92000001           england  394883  370883 -2.07811  53.234970  1.306816e+11   \n",
       "N92000002  northern ireland   86544  535337 -6.85570  54.615009  1.433186e+10   \n",
       "S92000003          scotland  277744  700060 -3.97094  56.177429  7.865663e+10   \n",
       "W92000004             wales  263405  242881 -3.99417  52.067410  2.081892e+10   \n",
       "\n",
       "           shape_length                                           geometry  \n",
       "code                                                                        \n",
       "E92000001  4.616816e+06  MULTIPOLYGON (((-1.77887 55.66773, -1.80244 55...  \n",
       "N92000002  8.291252e+05  MULTIPOLYGON (((-6.18992 55.25846, -6.20082 55...  \n",
       "S92000003  9.812084e+06  MULTIPOLYGON (((-0.79514 60.74093, -0.79106 60...  \n",
       "W92000004  1.556249e+06  MULTIPOLYGON (((-3.08993 53.25953, -3.09314 53...  "
      ]
     },
     "execution_count": 10,
     "metadata": {},
     "output_type": "execute_result"
    }
   ],
   "source": [
    "# ONS BASED GEODATAFRAME DOWNLOAD FROM POSTGRES.\n",
    "dl_gdf_from_pg(table_name=\"gdf_ons_countries\",\n",
    "\n",
    "               dtype={\"name\":\"string\",\n",
    "                      \"bng_e\":\"Int32\",\n",
    "                      \"bng_n\":\"Int32\",\n",
    "                      \"long\":\"float32\",\n",
    "                      \"lat\":\"float32\",\n",
    "                      \"shape_area\":\"float32\",# MIGHT CHANGE BACK TO float64.\n",
    "                      \"shape_length\":\"float32\"\n",
    "                      },\n",
    "               index_col=\"code\"\n",
    "              )"
   ]
  },
  {
   "attachments": {},
   "cell_type": "markdown",
   "id": "91a042eb",
   "metadata": {},
   "source": [
    "---\n",
    "---\n",
    "## 5. CLOSE ALL CONNECTIONS TO POSTGRES DATABASE."
   ]
  },
  {
   "cell_type": "code",
   "execution_count": 11,
   "id": "5b93ba7a",
   "metadata": {},
   "outputs": [],
   "source": [
    "def disconnect_from_postgres():\n",
    "    \"\"\"\n",
    "    Completely disconnect from Postgres.\n",
    "    \"\"\"\n",
    "    engine.dispose() \n",
    "    print(\"All connections to Postgres have been terminated.\")"
   ]
  },
  {
   "cell_type": "code",
   "execution_count": 12,
   "id": "dd85c969",
   "metadata": {},
   "outputs": [
    {
     "name": "stdout",
     "output_type": "stream",
     "text": [
      "All connections to Postgres have been terminated.\n"
     ]
    }
   ],
   "source": [
    "disconnect_from_postgres()"
   ]
  }
 ],
 "metadata": {
  "kernelspec": {
   "display_name": "Python 3 (ipykernel)",
   "language": "python",
   "name": "python3"
  },
  "language_info": {
   "codemirror_mode": {
    "name": "ipython",
    "version": 3
   },
   "file_extension": ".py",
   "mimetype": "text/x-python",
   "name": "python",
   "nbconvert_exporter": "python",
   "pygments_lexer": "ipython3",
   "version": "3.8.10"
  }
 },
 "nbformat": 4,
 "nbformat_minor": 5
}
